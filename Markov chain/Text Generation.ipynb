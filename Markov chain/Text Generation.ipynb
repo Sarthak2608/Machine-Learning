{
 "cells": [
  {
   "cell_type": "markdown",
   "metadata": {},
   "source": [
    "# Using Markov chain we can generate next character.\n",
    "\n",
    "\n",
    "### Idea : If we have the string of size k then calculate the probability of getting the next character.\n",
    "### string text = \"the\"\n",
    "### key={'a','n','y'}\n",
    "### value={0.1,0.4,0.5}\n",
    "### then randomly select the next character from the key with probability =value. \n",
    "\n"
   ]
  },
  {
   "cell_type": "code",
   "execution_count": 12,
   "metadata": {},
   "outputs": [],
   "source": [
    "import numpy as np\n",
    "import os \n",
    "import pandas as pd"
   ]
  },
  {
   "cell_type": "code",
   "execution_count": 90,
   "metadata": {},
   "outputs": [],
   "source": [
    "def load_file(filename):\n",
    "    fh = open(filename,'r')\n",
    "    all_lines = fh.read()\n",
    "    fh.close()\n",
    "    return all_lines"
   ]
  },
  {
   "cell_type": "code",
   "execution_count": 98,
   "metadata": {},
   "outputs": [],
   "source": [
    "text = load_file('speech.txt')"
   ]
  },
  {
   "cell_type": "code",
   "execution_count": 99,
   "metadata": {},
   "outputs": [],
   "source": [
    "def getModel(text,k=4):\n",
    "    text=text.lower()\n",
    "    d={}\n",
    "    for i in range(len(text)-k):\n",
    "        x = text[i:i+k]\n",
    "        y = text[i+k]\n",
    "        if x not in d:\n",
    "            d[x]={}\n",
    "            d[x][y]=1\n",
    "        else:\n",
    "            if y in d[x]:\n",
    "                d[x][y]+=1\n",
    "            else:\n",
    "                d[x][y]=1\n",
    "    for i in d:\n",
    "        s=sum(d[i].values())\n",
    "        for j in d[i]:\n",
    "            d[i][j]/=s\n",
    "    return d"
   ]
  },
  {
   "cell_type": "code",
   "execution_count": 100,
   "metadata": {},
   "outputs": [],
   "source": [
    "model=getModel(text)"
   ]
  },
  {
   "cell_type": "code",
   "execution_count": 101,
   "metadata": {},
   "outputs": [],
   "source": [
    "def generateText(text,model,l,k=4):\n",
    "    for i in range(l):\n",
    "        lastK = text[-k:].lower()\n",
    "        if lastK in model:\n",
    "            text+=np.random.choice(list(model[lastK].keys()),p=list(model[lastK].values()))\n",
    "        else:\n",
    "            text+=\" \"\n",
    "    return text"
   ]
  },
  {
   "cell_type": "code",
   "execution_count": 110,
   "metadata": {},
   "outputs": [
    {
     "data": {
      "text/plain": [
       "'data in India itself; the five when the might network also late. feeder routes for india. it has though this day is situation connecting connection. this purpose. as to prepared industrial cities in general powerful a new potent hind.\\n\\nbrothere at station. the could clearly hear this complement, mines, obvious passenger and industries in parts of up governor shrimati anandiben parts for them? our farms, if described indians have to markets of the largest bengal. the economic speed after transported to be transported freight corridor connects jnpt in general colleagues in patel ji, union ran on freight corridors. when the large seeing connectivity of khurja-bhau, one of about 1500 kms will have prepare not able to ported freight corridors. the products and the gloriously, the programme, brothere a crop grows; it directly affects and around the power piyush government parliament, ministern railway ministers and sister the world. and speed after it has been prepared freight of the country and abro'"
      ]
     },
     "execution_count": 110,
     "metadata": {},
     "output_type": "execute_result"
    }
   ],
   "source": [
    "generateText(\"data in I\",model,1000)"
   ]
  },
  {
   "cell_type": "code",
   "execution_count": null,
   "metadata": {},
   "outputs": [],
   "source": []
  },
  {
   "cell_type": "code",
   "execution_count": null,
   "metadata": {},
   "outputs": [],
   "source": []
  },
  {
   "cell_type": "code",
   "execution_count": null,
   "metadata": {},
   "outputs": [],
   "source": []
  }
 ],
 "metadata": {
  "kernelspec": {
   "display_name": "Python 3",
   "language": "python",
   "name": "python3"
  },
  "language_info": {
   "codemirror_mode": {
    "name": "ipython",
    "version": 3
   },
   "file_extension": ".py",
   "mimetype": "text/x-python",
   "name": "python",
   "nbconvert_exporter": "python",
   "pygments_lexer": "ipython3",
   "version": "3.7.0"
  }
 },
 "nbformat": 4,
 "nbformat_minor": 2
}
