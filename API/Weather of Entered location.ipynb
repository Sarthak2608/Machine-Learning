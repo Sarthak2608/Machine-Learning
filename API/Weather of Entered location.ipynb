import urllib.request, urllib.parse, urllib.error
import json
import ssl

api_key = False
# If you have a Google Places API key, enter it here
# https://developers.google.com/maps/documentation/geocoding/intro


location_api_key = 42
weather_api_id='' #Enter your Api key of weather
serviceurl = ''   #Enter your service url


# Ignore SSL certificate errors
ctx = ssl.create_default_context()
ctx.check_hostname = False
ctx.verify_mode = ssl.CERT_NONE

while True:
    address = input('Enter location: ')
    if len(address) < 1: break

    parms = dict()
    parms['address'] = address
    if location_api_key is not False: parms['key'] = location_api_key
    url = serviceurl + urllib.parse.urlencode(parms)

    #print('Retrieving', url)
    uh = urllib.request.urlopen(url, context=ctx)
    data = uh.read().decode()
    #print('Retrieved', len(data), 'characters')

    try:
        js = json.loads(data)
    except:
        js = None

    if not js or 'status' not in js or js['status'] != 'OK':
        print('==== Failure To Retrieve ====')
        print(data)
        continue

    #print(json.dumps(js, indent=4))

    lat = js['results'][0]['geometry']['location']['lat']
    lng = js['results'][0]['geometry']['location']['lng']
    print('lat', lat, 'lng', lng)
    location = js['results'][0]['formatted_address']
    print(location)

    
    # Ignore SSL certificate errors
    ctx = ssl.create_default_context()
    ctx.check_hostname = False
    ctx.verify_mode = ssl.CERT_NONE
    url='https://api.openweathermap.org/data/2.5/weather?lat='+str(lat)+'&lon='+str(lng)+'&APPID='+weather_api_id
    fhand=urllib.request.urlopen(url,context=ctx)
    data=fhand.read().decode()
    js=json.loads(data)
    print(json.dumps(js,indent=4))
