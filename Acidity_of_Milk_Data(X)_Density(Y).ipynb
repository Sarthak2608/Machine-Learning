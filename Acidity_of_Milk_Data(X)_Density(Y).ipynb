{
  "nbformat": 4,
  "nbformat_minor": 0,
  "metadata": {
    "colab": {
      "name": "Acidity of Milk Data(X) -Density(Y).ipynb",
      "provenance": [],
      "authorship_tag": "ABX9TyMiMRjVFqKYx8te64aXAjbP",
      "include_colab_link": true
    },
    "kernelspec": {
      "name": "python3",
      "display_name": "Python 3"
    }
  },
  "cells": [
    {
      "cell_type": "markdown",
      "metadata": {
        "id": "view-in-github",
        "colab_type": "text"
      },
      "source": [
        "<a href=\"https://colab.research.google.com/github/Sarthak2608/Machine-Learning/blob/master/Acidity_of_Milk_Data(X)_Density(Y).ipynb\" target=\"_parent\"><img src=\"https://colab.research.google.com/assets/colab-badge.svg\" alt=\"Open In Colab\"/></a>"
      ]
    },
    {
      "cell_type": "code",
      "metadata": {
        "id": "gBDszd5SoZJN",
        "colab_type": "code",
        "colab": {}
      },
      "source": [
        "import pandas as pd\n",
        "import numpy as np\n",
        "import matplotlib.pyplot as plt"
      ],
      "execution_count": 0,
      "outputs": []
    },
    {
      "cell_type": "code",
      "metadata": {
        "id": "K9ZGvS-kvO6m",
        "colab_type": "code",
        "colab": {}
      },
      "source": [
        "def readData(filename):\n",
        "  df=pd.read_csv(filename)\n",
        "  return df.values"
      ],
      "execution_count": 0,
      "outputs": []
    },
    {
      "cell_type": "code",
      "metadata": {
        "id": "baTAt-Acx6Q1",
        "colab_type": "code",
        "colab": {}
      },
      "source": [
        "x=readData('/content/data/LinearX.csv')\n",
        "y=readData('/content/data/LinearY.csv')"
      ],
      "execution_count": 0,
      "outputs": []
    },
    {
      "cell_type": "code",
      "metadata": {
        "id": "ythW11ImyAUz",
        "colab_type": "code",
        "colab": {
          "base_uri": "https://localhost:8080/",
          "height": 102
        },
        "outputId": "010eb9c1-74dd-4f47-9246-c9f7ffe6bf55"
      },
      "source": [
        "print(x[:5])"
      ],
      "execution_count": 37,
      "outputs": [
        {
          "output_type": "stream",
          "text": [
            "[[8. ]\n",
            " [9.1]\n",
            " [8.4]\n",
            " [6.9]\n",
            " [7.7]]\n"
          ],
          "name": "stdout"
        }
      ]
    },
    {
      "cell_type": "code",
      "metadata": {
        "id": "3hv0G4rVyDIB",
        "colab_type": "code",
        "colab": {
          "base_uri": "https://localhost:8080/",
          "height": 102
        },
        "outputId": "ce779c5b-ce8f-4c3a-da73-068ef8a10f63"
      },
      "source": [
        "print(y[:5])"
      ],
      "execution_count": 38,
      "outputs": [
        {
          "output_type": "stream",
          "text": [
            "[[0.99007]\n",
            " [0.99769]\n",
            " [0.99386]\n",
            " [0.99508]\n",
            " [0.9963 ]]\n"
          ],
          "name": "stdout"
        }
      ]
    },
    {
      "cell_type": "code",
      "metadata": {
        "id": "yPEJNqnjyIEn",
        "colab_type": "code",
        "colab": {}
      },
      "source": [
        "def list_to_arr(x):\n",
        "  x1=[]\n",
        "  for i in x:\n",
        "    for j in i:\n",
        "      x1.append(j)\n",
        "  return x1\n",
        "x=list_to_arr(x)\n",
        "y=list_to_arr(y)"
      ],
      "execution_count": 0,
      "outputs": []
    },
    {
      "cell_type": "code",
      "metadata": {
        "id": "wLdSrZAAyKbS",
        "colab_type": "code",
        "colab": {
          "base_uri": "https://localhost:8080/",
          "height": 34
        },
        "outputId": "8b6eee82-2cbc-4d37-ac62-0b9c3b93c1bc"
      },
      "source": [
        "print(x[0:5])"
      ],
      "execution_count": 40,
      "outputs": [
        {
          "output_type": "stream",
          "text": [
            "[8.0, 9.1, 8.4, 6.9, 7.7]\n"
          ],
          "name": "stdout"
        }
      ]
    },
    {
      "cell_type": "code",
      "metadata": {
        "id": "y2Rx8dsNzcXy",
        "colab_type": "code",
        "colab": {
          "base_uri": "https://localhost:8080/",
          "height": 34
        },
        "outputId": "c8d2d6fc-46c0-4520-aaf1-9552b45e32e9"
      },
      "source": [
        "print(y[0:5])"
      ],
      "execution_count": 41,
      "outputs": [
        {
          "output_type": "stream",
          "text": [
            "[0.9900700000000001, 0.99769, 0.9938600000000001, 0.99508, 0.9963]\n"
          ],
          "name": "stdout"
        }
      ]
    },
    {
      "cell_type": "code",
      "metadata": {
        "id": "UIU5o1qkzfFj",
        "colab_type": "code",
        "colab": {
          "base_uri": "https://localhost:8080/",
          "height": 279
        },
        "outputId": "86d8aa62-4c6b-4659-e09b-4fd4c9f7454a"
      },
      "source": [
        "#plot the data\n",
        "plt.scatter(x,y)\n",
        "plt.xlabel('Acidity of Milk Data')\n",
        "plt.ylabel('Density')\n",
        "plt.show()"
      ],
      "execution_count": 42,
      "outputs": [
        {
          "output_type": "display_data",
          "data": {
            "image/png": "[encoded data removed]",
            "text/plain": [
              "<Figure size 432x288 with 1 Axes>"
            ]
          },
          "metadata": {
            "tags": [],
            "needs_background": "light"
          }
        }
      ]
    },
    {
      "cell_type": "code",
      "metadata": {
        "id": "EhvFX5PBzifL",
        "colab_type": "code",
        "colab": {
          "base_uri": "https://localhost:8080/",
          "height": 276
        },
        "outputId": "d43772e5-6c00-41aa-9461-d32970cda126"
      },
      "source": [
        "#Normalisation\n",
        "x=np.array(x)\n",
        "y=np.array(y)\n",
        "x=x-x.mean()/(x.std())\n",
        "y=y-y.mean()/(y.std())\n",
        "plt.scatter(x,y)\n",
        "plt.show()"
      ],
      "execution_count": 43,
      "outputs": [
        {
          "output_type": "display_data",
          "data": {
            "image/png": "[encoded data removed]",
            "text/plain": [
              "<Figure size 432x288 with 1 Axes>"
            ]
          },
          "metadata": {
            "tags": [],
            "needs_background": "light"
          }
        }
      ]
    },
    {
      "cell_type": "code",
      "metadata": {
        "id": "DRN6_QKk0_-y",
        "colab_type": "code",
        "colab": {}
      },
      "source": [
        "#Linear Regression\n",
        "from sklearn import preprocessing, svm \n",
        "from sklearn.model_selection import train_test_split \n",
        "from sklearn.linear_model import LinearRegression "
      ],
      "execution_count": 0,
      "outputs": []
    },
    {
      "cell_type": "code",
      "metadata": {
        "id": "3ufHG5cm2566",
        "colab_type": "code",
        "colab": {}
      },
      "source": [
        "regr=LinearRegression()\n",
        "x=x.reshape(-1, 1) \n",
        "y=y.reshape(-1, 1) \n",
        "regr.fit(x,y)\n",
        "Y=regr.predict(x[0:5])"
      ],
      "execution_count": 0,
      "outputs": []
    },
    {
      "cell_type": "code",
      "metadata": {
        "id": "Qll8SrBL3F3t",
        "colab_type": "code",
        "colab": {
          "base_uri": "https://localhost:8080/",
          "height": 272
        },
        "outputId": "533c1c8d-861c-4ae9-d4e2-086a95ea13da"
      },
      "source": [
        "#Real\n",
        "print(y[0:5])\n",
        "#predicted\n",
        "print(Y)\n",
        "dif=y[0:5]-Y\n",
        "#Error\n",
        "print(dif)"
      ],
      "execution_count": 50,
      "outputs": [
        {
          "output_type": "stream",
          "text": [
            "[[-484.8395947]\n",
            " [-484.8319747]\n",
            " [-484.8358047]\n",
            " [-484.8345847]\n",
            " [-484.8333647]]\n",
            "[[-484.83307103]\n",
            " [-484.83220691]\n",
            " [-484.8327568 ]\n",
            " [-484.83393514]\n",
            " [-484.83330669]]\n",
            "[[-6.52367321e-03]\n",
            " [ 2.32211514e-04]\n",
            " [-3.04789694e-03]\n",
            " [-6.49557925e-04]\n",
            " [-5.80054017e-05]]\n"
          ],
          "name": "stdout"
        }
      ]
    },
    {
      "cell_type": "code",
      "metadata": {
        "id": "Wm_7WVCs4RWU",
        "colab_type": "code",
        "colab": {}
      },
      "source": [
        ""
      ],
      "execution_count": 0,
      "outputs": []
    }
  ]
}