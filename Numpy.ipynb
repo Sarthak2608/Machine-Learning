{
  "nbformat": 4,
  "nbformat_minor": 0,
  "metadata": {
    "colab": {
      "name": "Numpy.ipynb",
      "provenance": [],
      "collapsed_sections": [],
      "authorship_tag": "ABX9TyO5LpR+mKu7xkaIFcm0S4qe",
      "include_colab_link": true
    },
    "kernelspec": {
      "name": "python3",
      "display_name": "Python 3"
    }
  },
  "cells": [
    {
      "cell_type": "markdown",
      "metadata": {
        "id": "view-in-github",
        "colab_type": "text"
      },
      "source": [
        "<a href=\"https://colab.research.google.com/github/Sarthak2608/Machine-Learning/blob/master/Numpy.ipynb\" target=\"_parent\"><img src=\"https://colab.research.google.com/assets/colab-badge.svg\" alt=\"Open In Colab\"/></a>"
      ]
    },
    {
      "cell_type": "code",
      "metadata": {
        "id": "ZqSmOnkhNH3i",
        "colab_type": "code",
        "colab": {}
      },
      "source": [
        "import numpy as np"
      ],
      "execution_count": 0,
      "outputs": []
    },
    {
      "cell_type": "code",
      "metadata": {
        "id": "79N6xbnGNLam",
        "colab_type": "code",
        "outputId": "b498ed10-fac8-4a6c-ae7a-b4d96c6ad69d",
        "colab": {
          "base_uri": "https://localhost:8080/",
          "height": 34
        }
      },
      "source": [
        "print(np.absolute(-3))"
      ],
      "execution_count": 0,
      "outputs": [
        {
          "output_type": "stream",
          "text": [
            "3\n"
          ],
          "name": "stdout"
        }
      ]
    },
    {
      "cell_type": "code",
      "metadata": {
        "id": "qhzZBjdjNbW8",
        "colab_type": "code",
        "outputId": "9c30be01-d37d-43a3-bd02-85a1bad15ed2",
        "colab": {
          "base_uri": "https://localhost:8080/",
          "height": 51
        }
      },
      "source": [
        "a=np.array([1,2,3,4,5])\n",
        "print(type(a))\n",
        "print(a.shape)"
      ],
      "execution_count": 0,
      "outputs": [
        {
          "output_type": "stream",
          "text": [
            "<class 'numpy.ndarray'>\n",
            "(5,)\n"
          ],
          "name": "stdout"
        }
      ]
    },
    {
      "cell_type": "code",
      "metadata": {
        "id": "MSjohrnqNkY1",
        "colab_type": "code",
        "outputId": "dae85930-e746-4afd-a9fc-eb839b3682d1",
        "colab": {
          "base_uri": "https://localhost:8080/",
          "height": 34
        }
      },
      "source": [
        "b=np.array([[1,2,3],[4,5,6]])\n",
        "print(np.shape)"
      ],
      "execution_count": 0,
      "outputs": [
        {
          "output_type": "stream",
          "text": [
            "<function shape at 0x7f3329092268>\n"
          ],
          "name": "stdout"
        }
      ]
    },
    {
      "cell_type": "code",
      "metadata": {
        "id": "HyGQSfRLNn6f",
        "colab_type": "code",
        "outputId": "27c6db2b-d279-4d52-8132-e4165e08ec24",
        "colab": {
          "base_uri": "https://localhost:8080/",
          "height": 68
        }
      },
      "source": [
        "bTranspose=b.T\n",
        "print(bTranspose)"
      ],
      "execution_count": 0,
      "outputs": [
        {
          "output_type": "stream",
          "text": [
            "[[1 4]\n",
            " [2 5]\n",
            " [3 6]]\n"
          ],
          "name": "stdout"
        }
      ]
    },
    {
      "cell_type": "code",
      "metadata": {
        "id": "lTK2r_4QN4_d",
        "colab_type": "code",
        "outputId": "917261ff-660c-4ac2-9f1e-b444ac8fdea8",
        "colab": {
          "base_uri": "https://localhost:8080/",
          "height": 51
        }
      },
      "source": [
        "c=np.dot(b,bTranspose)\n",
        "print(c)"
      ],
      "execution_count": 0,
      "outputs": [
        {
          "output_type": "stream",
          "text": [
            "[[14 32]\n",
            " [32 77]]\n"
          ],
          "name": "stdout"
        }
      ]
    },
    {
      "cell_type": "code",
      "metadata": {
        "id": "8Vjfddn8OBjW",
        "colab_type": "code",
        "colab": {}
      },
      "source": [
        "np.random.randint?"
      ],
      "execution_count": 0,
      "outputs": []
    },
    {
      "cell_type": "code",
      "metadata": {
        "id": "3f7s6yfYOavf",
        "colab_type": "code",
        "outputId": "1cb4a895-40ff-4cef-819e-7f52ae7006f0",
        "colab": {
          "base_uri": "https://localhost:8080/",
          "height": 34
        }
      },
      "source": [
        "a=np.random.randint(10,1000,10)\n",
        "print(a)"
      ],
      "execution_count": 0,
      "outputs": [
        {
          "output_type": "stream",
          "text": [
            "[879 342 426 990 394 126 177 190 655 253]\n"
          ],
          "name": "stdout"
        }
      ]
    },
    {
      "cell_type": "code",
      "metadata": {
        "id": "0I3KqJlfOm1H",
        "colab_type": "code",
        "outputId": "9d521804-0a33-4acd-c8aa-ddba32f7fe8e",
        "colab": {
          "base_uri": "https://localhost:8080/",
          "height": 102
        }
      },
      "source": [
        "b=np.random.randint(10,100,(5,5))\n",
        "print(b)\n"
      ],
      "execution_count": 0,
      "outputs": [
        {
          "output_type": "stream",
          "text": [
            "[[35 31 14 29 80]\n",
            " [87 38 15 66 22]\n",
            " [87 42 23 98 68]\n",
            " [78 87 26 88 97]\n",
            " [63 34 17 36 28]]\n"
          ],
          "name": "stdout"
        }
      ]
    },
    {
      "cell_type": "code",
      "metadata": {
        "id": "5F1cqExNOvUF",
        "colab_type": "code",
        "outputId": "79abc6e2-e4ee-4a18-8d73-aebc1527a115",
        "colab": {
          "base_uri": "https://localhost:8080/",
          "height": 34
        }
      },
      "source": [
        "print(np.max(b),np.argmax(b))  #argmax return the index of maximum element"
      ],
      "execution_count": 0,
      "outputs": [
        {
          "output_type": "stream",
          "text": [
            "98 13\n"
          ],
          "name": "stdout"
        }
      ]
    },
    {
      "cell_type": "code",
      "metadata": {
        "id": "VYExVkQdO4Jc",
        "colab_type": "code",
        "outputId": "0b7acea3-910f-46bc-d68c-4471f21bbbf5",
        "colab": {
          "base_uri": "https://localhost:8080/",
          "height": 51
        }
      },
      "source": [
        "#unique number in array\n",
        "a=[1,1,2,-3,4,4]\n",
        "key,value=np.unique(a,return_counts=True);\n",
        "print(key)\n",
        "print(value)"
      ],
      "execution_count": 0,
      "outputs": [
        {
          "output_type": "stream",
          "text": [
            "[-3  1  2  4]\n",
            "[1 2 1 2]\n"
          ],
          "name": "stdout"
        }
      ]
    },
    {
      "cell_type": "code",
      "metadata": {
        "id": "dxbo51pUPm5m",
        "colab_type": "code",
        "outputId": "14a453df-a371-48ca-baf8-f568aa5b9bdb",
        "colab": {
          "base_uri": "https://localhost:8080/",
          "height": 136
        }
      },
      "source": [
        "#Slicing of an array\n",
        "mat=np.random.randint(10,100,(5,5))\n",
        "print(mat)\n",
        "slc=mat[1:5:2,1:5:2]  #It is zero based indexing and slc=mat[start:end:increment]\n",
        "print(slc)\n"
      ],
      "execution_count": 0,
      "outputs": [
        {
          "output_type": "stream",
          "text": [
            "[[22 37 88 41 13]\n",
            " [90 88 46 37 33]\n",
            " [74 40 88 38 38]\n",
            " [82 91 44 16 78]\n",
            " [21 53 42 39 51]]\n",
            "[[88 37]\n",
            " [91 16]]\n"
          ],
          "name": "stdout"
        }
      ]
    },
    {
      "cell_type": "code",
      "metadata": {
        "id": "lX7AdBSBQznP",
        "colab_type": "code",
        "colab": {}
      },
      "source": [
        ""
      ],
      "execution_count": 0,
      "outputs": []
    }
  ]
}