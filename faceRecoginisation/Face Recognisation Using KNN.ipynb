{
 "cells": [
  {
   "cell_type": "code",
   "execution_count": 1,
   "metadata": {},
   "outputs": [],
   "source": [
    "import cv2\n",
    "import os\n",
    "import numpy as np"
   ]
  },
  {
   "cell_type": "code",
   "execution_count": 8,
   "metadata": {},
   "outputs": [
    {
     "name": "stdout",
     "output_type": "stream",
     "text": [
      "Sarthak.npy\n",
      "(100, 100, 100, 3)\n",
      "Shaily.npy\n",
      "(100, 100, 100, 3)\n"
     ]
    }
   ],
   "source": [
    "dataset_path='data/'\n",
    "k=0\n",
    "names={}\n",
    "train_x=[]\n",
    "train_y=[]\n",
    "for fx in os.listdir(dataset_path):\n",
    "    if fx.endswith('.npy'):\n",
    "        print(fx)\n",
    "        face_data=np.load(dataset_path+fx)\n",
    "        print(face_data.shape)\n",
    "        c=0\n",
    "        for i in face_data[:]:\n",
    "            c+=1\n",
    "            i=i.flatten()\n",
    "            #print(i)\n",
    "            #print(i.shape)\n",
    "            train_x.append(i)\n",
    "            train_y.append(k)\n",
    "        names[k]=fx[0:len(fx)-4]\n",
    "        k+=1\n",
    "#train_data is a 2d matrix with 3000+1 columns where total features are 3000"
   ]
  },
  {
   "cell_type": "code",
   "execution_count": 9,
   "metadata": {},
   "outputs": [
    {
     "name": "stdout",
     "output_type": "stream",
     "text": [
      "[array([15, 15, 15, ..., 18, 12, 11], dtype=uint8), array([15, 15, 16, ..., 16, 20, 21], dtype=uint8), array([17, 16, 18, ..., 32, 26, 19], dtype=uint8), array([16, 14, 15, ..., 24, 24, 24], dtype=uint8), array([28, 28, 29, ..., 23, 25, 20], dtype=uint8), array([121, 113, 101, ...,  18,  20,  18], dtype=uint8), array([112, 102,  97, ...,  22,  18,  12], dtype=uint8), array([128, 130, 128, ...,  25,  23,  26], dtype=uint8), array([56, 28, 25, ..., 50, 41, 29], dtype=uint8), array([91, 74, 71, ..., 48, 43, 34], dtype=uint8), array([47, 24, 19, ..., 56, 46, 37], dtype=uint8), array([36, 12,  7, ..., 33, 35, 32], dtype=uint8), array([144, 135, 140, ...,  25,  17,  17], dtype=uint8), array([135, 136, 142, ...,  17,  15,  14], dtype=uint8), array([137, 129, 135, ...,  20,  16,  19], dtype=uint8), array([126, 117, 125, ...,  19,  16,  14], dtype=uint8), array([124, 113, 114, ...,  55,  53,  44], dtype=uint8), array([113, 120, 115, ..., 112, 107, 105], dtype=uint8), array([133, 124, 122, ..., 126, 123, 120], dtype=uint8), array([114, 111, 100, ..., 134, 134, 134], dtype=uint8), array([138, 131, 126, ..., 123, 116, 122], dtype=uint8), array([134, 126, 127, ..., 119, 103, 103], dtype=uint8), array([139, 130, 132, ..., 185, 210, 227], dtype=uint8), array([51, 72, 81, ..., 21, 18, 18], dtype=uint8), array([49, 60, 69, ..., 21, 22, 27], dtype=uint8), array([113, 122, 121, ...,  57,  65,  63], dtype=uint8), array([148, 144, 134, ..., 106, 130, 146], dtype=uint8), array([149, 134, 137, ...,  36,  34,  34], dtype=uint8), array([152, 144, 140, ...,  23,  21,  21], dtype=uint8), array([151, 142, 142, ...,  21,  18,  19], dtype=uint8), array([153, 141, 143, ...,  26,  23,  19], dtype=uint8), array([143, 139, 140, ...,  25,  24,  23], dtype=uint8), array([142, 129, 136, ...,  20,  17,  20], dtype=uint8), array([135, 125, 130, ...,  23,  18,  20], dtype=uint8), array([139, 128, 134, ...,  31,  32,  33], dtype=uint8), array([138, 125, 129, ...,  32,  31,  34], dtype=uint8), array([127, 122, 127, ..., 131, 146, 139], dtype=uint8), array([138, 122, 132, ...,  21,  20,  17], dtype=uint8), array([143, 130, 128, ...,  34,  33,  28], dtype=uint8), array([114, 107, 108, ...,  62,  53,  43], dtype=uint8), array([141, 128, 121, ...,  74,  68,  64], dtype=uint8), array([134, 134, 127, ...,  85,  81,  79], dtype=uint8), array([133, 128, 125, ..., 110, 100,  97], dtype=uint8), array([115, 116, 122, ..., 130, 120, 121], dtype=uint8), array([125, 122, 126, ..., 144, 136, 132], dtype=uint8), array([136, 125, 138, ..., 139, 124, 126], dtype=uint8), array([149, 143, 142, ..., 139, 131, 146], dtype=uint8), array([145, 139, 132, ..., 136, 122, 120], dtype=uint8), array([ 82,  66,  68, ..., 135, 135, 124], dtype=uint8), array([141, 138, 131, ...,  77,  66,  60], dtype=uint8), array([30, 20, 23, ..., 76, 68, 56], dtype=uint8), array([37, 21, 22, ..., 80, 64, 57], dtype=uint8), array([106, 102,  95, ...,  58,  48,  41], dtype=uint8), array([58, 49, 42, ..., 49, 48, 38], dtype=uint8), array([145, 136, 141, ...,  65,  56,  49], dtype=uint8), array([141, 139, 138, ...,  78,  67,  44], dtype=uint8), array([136, 132, 143, ...,  57,  54,  40], dtype=uint8), array([150, 137, 138, ...,  63,  53,  39], dtype=uint8), array([148, 144, 145, ...,  81,  69,  55], dtype=uint8), array([154, 142, 142, ...,  90,  79,  62], dtype=uint8), array([147, 137, 134, ...,  99,  85,  64], dtype=uint8), array([ 22,  17,  20, ..., 106,  91,  74], dtype=uint8), array([148, 142, 129, ..., 111,  93,  73], dtype=uint8), array([156, 146, 145, ...,  96,  90,  78], dtype=uint8), array([160, 153, 138, ...,  73,  69,  54], dtype=uint8), array([21, 18, 11, ..., 88, 80, 62], dtype=uint8), array([152, 142, 142, ..., 108,  92,  77], dtype=uint8), array([145, 134, 127, ..., 113, 100,  79], dtype=uint8), array([115, 100,  92, ...,  80,  78,  59], dtype=uint8), array([ 87,  69,  66, ..., 109,  94,  74], dtype=uint8), array([144, 134, 121, ..., 112,  97,  78], dtype=uint8), array([110, 111, 103, ..., 111,  92,  71], dtype=uint8), array([146, 138, 140, ..., 102,  86,  73], dtype=uint8), array([150, 145, 139, ...,  87,  79,  65], dtype=uint8), array([151, 141, 143, ...,  94,  81,  66], dtype=uint8), array([138, 128, 122, ...,  89,  81,  61], dtype=uint8), array([148, 138, 139, ...,  86,  73,  57], dtype=uint8), array([149, 142, 142, ...,  89,  78,  58], dtype=uint8), array([103,  91,  78, ...,  79,  77,  59], dtype=uint8), array([142, 142, 131, ...,  78,  77,  58], dtype=uint8), array([139, 134, 130, ...,  75,  70,  57], dtype=uint8), array([144, 133, 122, ...,  82,  67,  56], dtype=uint8), array([134, 133, 128, ...,  73,  60,  53], dtype=uint8), array([149, 135, 141, ...,  70,  57,  51], dtype=uint8), array([144, 136, 130, ...,  71,  62,  55], dtype=uint8), array([140, 134, 135, ...,  59,  51,  39], dtype=uint8), array([137, 133, 130, ...,  65,  60,  51], dtype=uint8), array([142, 133, 132, ...,  54,  53,  43], dtype=uint8), array([144, 132, 133, ...,  57,  51,  42], dtype=uint8), array([143, 139, 132, ...,  51,  51,  40], dtype=uint8), array([141, 137, 133, ...,  53,  51,  40], dtype=uint8), array([137, 128, 127, ...,  44,  44,  39], dtype=uint8), array([135, 129, 126, ...,  26,  23,  23], dtype=uint8), array([88, 86, 79, ..., 23, 24, 22], dtype=uint8), array([79, 59, 55, ..., 22, 18, 18], dtype=uint8), array([50, 26, 26, ..., 28, 22, 25], dtype=uint8), array([45, 38, 40, ..., 28, 26, 24], dtype=uint8), array([125, 120, 110, ...,  37,  37,  32], dtype=uint8), array([144, 137, 147, ...,  56,  52,  37], dtype=uint8), array([136, 130, 122, ...,  61,  58,  39], dtype=uint8), array([122, 117, 121, ...,  16,  12,  13], dtype=uint8), array([128, 120, 124, ...,  12,  12,  13], dtype=uint8), array([118, 116, 118, ...,  18,  10,  14], dtype=uint8), array([120, 113, 117, ...,  13,  12,  12], dtype=uint8), array([114, 113, 119, ...,  18,  13,  13], dtype=uint8), array([120, 118, 121, ...,  15,  10,   8], dtype=uint8), array([117, 111, 122, ...,  20,  12,  12], dtype=uint8), array([121, 121, 129, ...,  18,  16,  15], dtype=uint8), array([132, 127, 124, ...,  14,  14,  13], dtype=uint8), array([125, 126, 128, ...,  20,  16,  16], dtype=uint8), array([116, 119, 125, ...,  19,  20,  21], dtype=uint8), array([123, 123, 127, ...,  16,  16,  13], dtype=uint8), array([122, 115, 125, ...,  14,  12,  13], dtype=uint8), array([128, 119, 128, ...,  16,  15,  15], dtype=uint8), array([125, 121, 130, ...,  15,  12,  11], dtype=uint8), array([135, 125, 126, ...,  15,   8,  16], dtype=uint8), array([126, 125, 134, ...,   4,   6,  12], dtype=uint8), array([135, 128, 130, ...,   8,   7,   9], dtype=uint8), array([141, 130, 136, ...,  17,  31,  30], dtype=uint8), array([137, 127, 136, ...,  25,  47,  49], dtype=uint8), array([129, 131, 133, ...,  29,  46,  59], dtype=uint8), array([126, 129, 129, ...,  41,  61,  73], dtype=uint8), array([129, 127, 131, ...,  46,  68,  80], dtype=uint8), array([137, 127, 128, ...,  47,  68,  77], dtype=uint8), array([131, 120, 130, ...,  45,  63,  78], dtype=uint8), array([135, 125, 137, ...,  31,  48,  56], dtype=uint8), array([137, 130, 137, ...,  23,  34,  45], dtype=uint8), array([135, 129, 133, ...,  11,  11,  20], dtype=uint8), array([132, 130, 131, ...,   8,   9,  16], dtype=uint8), array([132, 122, 126, ...,  12,  10,  10], dtype=uint8), array([127, 119, 124, ...,   9,   9,  10], dtype=uint8), array([157, 150, 145, ...,  10,   6,   8], dtype=uint8), array([151, 151, 148, ...,  14,   8,  13], dtype=uint8), array([166, 159, 155, ...,  15,  13,   8], dtype=uint8), array([167, 157, 148, ...,  10,  10,  10], dtype=uint8), array([169, 158, 157, ...,   9,   9,  10], dtype=uint8), array([150, 147, 150, ...,  16,  17,  13], dtype=uint8), array([158, 150, 154, ...,  17,  10,  11], dtype=uint8), array([160, 150, 155, ...,  12,  13,  12], dtype=uint8), array([153, 151, 150, ...,  11,  11,  13], dtype=uint8), array([159, 153, 142, ...,  10,   8,  11], dtype=uint8), array([151, 148, 152, ...,  10,   8,   7], dtype=uint8), array([155, 154, 157, ...,   9,  10,  10], dtype=uint8), array([153, 148, 152, ...,   6,  10,   7], dtype=uint8), array([161, 156, 157, ...,  17,  13,  14], dtype=uint8), array([165, 160, 159, ...,  18,  11,  10], dtype=uint8), array([157, 155, 159, ...,   8,  12,  16], dtype=uint8), array([168, 154, 159, ...,  15,  12,  13], dtype=uint8), array([155, 151, 151, ...,  10,  12,  12], dtype=uint8), array([152, 153, 154, ...,  15,  13,   9], dtype=uint8), array([154, 149, 150, ...,   7,   7,   7], dtype=uint8), array([131, 128, 135, ...,   9,   8,  10], dtype=uint8), array([109, 103, 112, ...,   8,   7,   7], dtype=uint8), array([51, 46, 55, ..., 11, 11, 11], dtype=uint8), array([119, 114, 125, ...,  17,  16,  15], dtype=uint8), array([117, 104, 118, ...,  16,  12,  12], dtype=uint8), array([122, 119, 134, ...,  10,  13,  16], dtype=uint8), array([ 96,  92, 101, ...,  19,  14,  15], dtype=uint8), array([122, 121, 129, ...,  17,  15,  13], dtype=uint8), array([129, 127, 131, ...,  20,  17,  16], dtype=uint8), array([124, 120, 132, ...,  21,  15,  21], dtype=uint8), array([128, 125, 126, ...,  13,  11,  16], dtype=uint8), array([136, 128, 127, ...,  13,  10,  10], dtype=uint8), array([127, 128, 133, ...,  10,  10,  14], dtype=uint8), array([131, 128, 125, ...,   8,   4,  10], dtype=uint8), array([131, 127, 128, ...,  11,  13,  13], dtype=uint8), array([124, 128, 129, ...,   9,  16,  16], dtype=uint8), array([133, 126, 127, ...,   8,  18,  27], dtype=uint8), array([127, 122, 128, ...,  10,  20,  24], dtype=uint8), array([131, 129, 130, ...,  17,  15,  20], dtype=uint8), array([128, 129, 134, ...,   8,  15,  23], dtype=uint8), array([133, 128, 129, ...,  12,  12,  13], dtype=uint8), array([130, 124, 127, ...,  12,  12,   8], dtype=uint8), array([134, 124, 133, ...,   8,  14,  13], dtype=uint8), array([132, 127, 134, ...,   9,  10,  10], dtype=uint8), array([134, 130, 132, ...,  13,  10,  11], dtype=uint8), array([129, 121, 127, ...,  13,  12,  12], dtype=uint8), array([157, 151, 156, ...,  14,  14,  12], dtype=uint8), array([153, 152, 152, ...,  10,  10,   8], dtype=uint8), array([156, 151, 151, ...,  22,  15,   8], dtype=uint8), array([162, 155, 148, ...,  11,   9,  10], dtype=uint8), array([163, 158, 155, ...,  12,  10,   8], dtype=uint8), array([165, 154, 154, ...,  15,   8,   7], dtype=uint8), array([165, 156, 157, ...,  15,   9,  14], dtype=uint8), array([165, 156, 156, ...,  12,  11,  10], dtype=uint8), array([162, 154, 154, ...,  16,  12,  12], dtype=uint8), array([164, 156, 149, ...,  11,   6,  15], dtype=uint8), array([168, 158, 152, ...,   9,   9,  14], dtype=uint8), array([167, 153, 153, ...,  16,  11,  15], dtype=uint8), array([161, 159, 159, ...,  16,  14,  12], dtype=uint8), array([163, 152, 155, ...,  14,  12,   8], dtype=uint8), array([166, 164, 160, ...,  11,   9,   9], dtype=uint8), array([166, 166, 159, ...,  16,  11,  11], dtype=uint8), array([165, 156, 155, ...,  16,   9,  10], dtype=uint8), array([131, 117, 132, ...,  11,   9,  14], dtype=uint8), array([128, 125, 127, ...,   8,   9,  12], dtype=uint8), array([117, 123, 126, ...,  10,   7,  13], dtype=uint8), array([131, 128, 127, ...,  14,  11,  11], dtype=uint8), array([132, 121, 133, ...,  13,  10,  13], dtype=uint8), array([126, 129, 128, ...,  14,   9,  10], dtype=uint8)]\n",
      "[0, 0, 0, 0, 0, 0, 0, 0, 0, 0, 0, 0, 0, 0, 0, 0, 0, 0, 0, 0, 0, 0, 0, 0, 0, 0, 0, 0, 0, 0, 0, 0, 0, 0, 0, 0, 0, 0, 0, 0, 0, 0, 0, 0, 0, 0, 0, 0, 0, 0, 0, 0, 0, 0, 0, 0, 0, 0, 0, 0, 0, 0, 0, 0, 0, 0, 0, 0, 0, 0, 0, 0, 0, 0, 0, 0, 0, 0, 0, 0, 0, 0, 0, 0, 0, 0, 0, 0, 0, 0, 0, 0, 0, 0, 0, 0, 0, 0, 0, 0, 1, 1, 1, 1, 1, 1, 1, 1, 1, 1, 1, 1, 1, 1, 1, 1, 1, 1, 1, 1, 1, 1, 1, 1, 1, 1, 1, 1, 1, 1, 1, 1, 1, 1, 1, 1, 1, 1, 1, 1, 1, 1, 1, 1, 1, 1, 1, 1, 1, 1, 1, 1, 1, 1, 1, 1, 1, 1, 1, 1, 1, 1, 1, 1, 1, 1, 1, 1, 1, 1, 1, 1, 1, 1, 1, 1, 1, 1, 1, 1, 1, 1, 1, 1, 1, 1, 1, 1, 1, 1, 1, 1, 1, 1, 1, 1, 1, 1, 1, 1]\n"
     ]
    }
   ],
   "source": [
    "print(train_x)\n",
    "print(train_y)"
   ]
  },
  {
   "cell_type": "code",
   "execution_count": 10,
   "metadata": {},
   "outputs": [
    {
     "name": "stdout",
     "output_type": "stream",
     "text": [
      "(200, 30000)\n",
      "(200,)\n"
     ]
    }
   ],
   "source": [
    "# converting list into numpy array\n",
    "train_x=np.asarray(train_x)\n",
    "print(train_x.shape)\n",
    "train_y=np.asarray(train_y)\n",
    "print(train_y.shape)"
   ]
  },
  {
   "cell_type": "code",
   "execution_count": 11,
   "metadata": {},
   "outputs": [
    {
     "name": "stdout",
     "output_type": "stream",
     "text": [
      "{0: 'Sarthak', 1: 'Shaily'}\n"
     ]
    }
   ],
   "source": [
    "print(names)"
   ]
  },
  {
   "cell_type": "code",
   "execution_count": 12,
   "metadata": {},
   "outputs": [],
   "source": [
    "def dis(X,Y):\n",
    "    return np.sqrt(sum((X-Y)**2))\n",
    "\n",
    "def KNN(x,y,query_x,k=5):\n",
    "    val=[]\n",
    "    m=x.shape[0]\n",
    "    for i in range(m):\n",
    "        d=dis(x[i],query_x)\n",
    "        val.append((d,int(y[i])))\n",
    "    val=sorted(val)\n",
    "    val=np.array(val)\n",
    "    val=val[:k,1]\n",
    "    val=np.unique(val,return_counts=True)\n",
    "    if(len(val[1])==2):\n",
    "        if(val[1][0]==val[1][1]):\n",
    "            if(k<100):\n",
    "                return KNN(x,y,query_x,k+1)\n",
    "    max_freq_index=val[1].argmax()\n",
    "    return val[0][max_freq_index]"
   ]
  },
  {
   "cell_type": "code",
   "execution_count": 13,
   "metadata": {},
   "outputs": [],
   "source": [
    "cap =  cv2.VideoCapture(0)  \n",
    "face_cascade = cv2.CascadeClassifier('haarcascade_frontalface_default.xml')\n",
    "\n",
    "skip=0\n",
    "offset=10\n",
    "face_data=[]\n",
    "show_on_frame=[]\n",
    "\n",
    "while True:\n",
    "    ret,frame=cap.read()\n",
    "   \n",
    "    if ret==False:\n",
    "        continue\n",
    "    X=frame.shape[0]\n",
    "    Y=frame.shape[1]\n",
    "    \n",
    "    faces=face_cascade.detectMultiScale(frame,1.3,5)\n",
    "    \n",
    "    if skip%4==0:\n",
    "        show_on_frame=[]\n",
    "        for (x,y,w,h) in faces:\n",
    "            Required_frame=frame[max(0,y-offset):min(Y,y+h+offset),max(0,x-offset):min(X,x+w+offset)]\n",
    "            Required_frame=cv2.resize(Required_frame,(100,100))\n",
    "            Required_frame=Required_frame.flatten()\n",
    "            predicted_name=names[int(KNN(train_x,train_y,Required_frame))]\n",
    "            show_on_frame.append((x,y,w,h,predicted_name))\n",
    "            #         cv2.imshow(\"Detected Face\",Required_frame)\n",
    "            #         face_data.append(Required_frame)\n",
    "            #         print(len(face_data))\n",
    "    \n",
    "    for (x,y,w,h,predicted_name) in show_on_frame:\n",
    "        cv2.rectangle(frame,(x,y),(x+w,y+h),(0,255,255),2)\n",
    "         # font \n",
    "        font = cv2.FONT_HERSHEY_SIMPLEX \n",
    "        # org\n",
    "        org = (max(0,x-10),y)\n",
    "        # fontScale\n",
    "        fontScale = 1\n",
    "        # Blue color in BGR \n",
    "        color = (255, 0, 0) \n",
    "        # Line thickness of 2 px \n",
    "        thickness = 2\n",
    "   \n",
    "        frame=cv2.putText(frame, predicted_name , org, cv2.FONT_HERSHEY_SIMPLEX,  \n",
    "                   fontScale, color, thickness, cv2.LINE_AA)\n",
    "    \n",
    "    cv2.imshow(\"Scanning Your Face\",frame)\n",
    "\n",
    "    if cv2.waitKey(1) & 0xFF == ord('q') or len(face_data)>=1000:\n",
    "        break\n",
    "    skip+=1\n",
    "\n",
    "cap.release()\n",
    "cv2.destroyAllWindows()"
   ]
  },
  {
   "cell_type": "code",
   "execution_count": null,
   "metadata": {},
   "outputs": [],
   "source": []
  }
 ],
 "metadata": {
  "kernelspec": {
   "display_name": "Python 3",
   "language": "python",
   "name": "python3"
  },
  "language_info": {
   "codemirror_mode": {
    "name": "ipython",
    "version": 3
   },
   "file_extension": ".py",
   "mimetype": "text/x-python",
   "name": "python",
   "nbconvert_exporter": "python",
   "pygments_lexer": "ipython3",
   "version": "3.7.0"
  }
 },
 "nbformat": 4,
 "nbformat_minor": 2
}
